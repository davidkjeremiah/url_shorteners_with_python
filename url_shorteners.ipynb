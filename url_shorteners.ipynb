{
 "cells": [
  {
   "cell_type": "markdown",
   "metadata": {},
   "source": [
    "# **URL Shortener**"
   ]
  },
  {
   "cell_type": "markdown",
   "metadata": {},
   "source": [
    "## **Overview**\n",
    "\n",
    "It is generally simple to share information from a website with friends and colleagues, but this task can become significantly more difficult when the user encounters a very long link. The link is the webpage's address, and it is referred to as a Uniform Resource Locator (URL). A URL shortener's primary function is to shorten web addresses so that users can remember them and share them with their colleagues. "
   ]
  },
  {
   "cell_type": "markdown",
   "metadata": {},
   "source": [
    "## **Objective**\n",
    "Create a shortener that enables users to reduce the length of the web-address significantly and allow them to customize the link"
   ]
  },
  {
   "cell_type": "markdown",
   "metadata": {},
   "source": [
    "### Import Libraries"
   ]
  },
  {
   "cell_type": "code",
   "execution_count": 12,
   "metadata": {},
   "outputs": [],
   "source": [
    "# import shorten_urls from the BitlyAPI library\n",
    "from BitlyAPI import shorten_urls"
   ]
  },
  {
   "cell_type": "markdown",
   "metadata": {},
   "source": [
    "### Create a list of URLs"
   ]
  },
  {
   "cell_type": "code",
   "execution_count": 13,
   "metadata": {},
   "outputs": [],
   "source": [
    "# create a list of urls\n",
    "urls = []\n",
    "url_input = str(input('Paste/Enter copied url here: '))\n",
    "while url_input:\n",
    "    urls.append(url_input)\n",
    "    response = input('Do you have another url to shorten? (y/n)')\n",
    "    if response == 'y':\n",
    "        url_input = str(input('Paste/Enter copied url here: '))\n",
    "    else:\n",
    "        break"
   ]
  },
  {
   "cell_type": "code",
   "execution_count": 22,
   "metadata": {},
   "outputs": [
    {
     "data": {
      "text/plain": [
       "['https://www.annegrahamlotz.org/category/messages-from-gods-word/joy-of-my-heart/',\n",
       " 'https://www.geeksforgeeks.org/rename-multiple-files-using-python/']"
      ]
     },
     "execution_count": 22,
     "metadata": {},
     "output_type": "execute_result"
    }
   ],
   "source": [
    "# inspect urls\n",
    "urls"
   ]
  },
  {
   "cell_type": "markdown",
   "metadata": {},
   "source": [
    "### Create URL shortener"
   ]
  },
  {
   "cell_type": "code",
   "execution_count": 33,
   "metadata": {},
   "outputs": [],
   "source": [
    "# create url shortner that receives the list of urls\n",
    "def url_shortner(urls):\n",
    "    response = shorten_urls(urls)\n",
    "    # loop through each url and shorten them\n",
    "    result = []\n",
    "    for url in response:\n",
    "        print(\"Long url: {}, Shortened url: {}, Status: {}\".format(url.long_url, url.short_url, url.status_txt))\n",
    "        result.append(url.short_url)\n",
    "    \n",
    "    return result\n"
   ]
  },
  {
   "cell_type": "code",
   "execution_count": 34,
   "metadata": {},
   "outputs": [
    {
     "name": "stdout",
     "output_type": "stream",
     "text": [
      "Long url: https://www.annegrahamlotz.org/category/messages-from-gods-word/joy-of-my-heart/, Shortened url: https://bit.ly/3utr8fG, Status: success\n",
      "Long url: https://www.geeksforgeeks.org/rename-multiple-files-using-python/, Shortened url: https://bit.ly/3uoPya5, Status: success\n"
     ]
    },
    {
     "data": {
      "text/plain": [
       "['https://bit.ly/3utr8fG', 'https://bit.ly/3uoPya5']"
      ]
     },
     "execution_count": 34,
     "metadata": {},
     "output_type": "execute_result"
    }
   ],
   "source": [
    "url_shortner(urls)"
   ]
  },
  {
   "cell_type": "code",
   "execution_count": null,
   "metadata": {},
   "outputs": [],
   "source": []
  }
 ],
 "metadata": {
  "kernelspec": {
   "display_name": "Python 3.10.6 64-bit",
   "language": "python",
   "name": "python3"
  },
  "language_info": {
   "codemirror_mode": {
    "name": "ipython",
    "version": 3
   },
   "file_extension": ".py",
   "mimetype": "text/x-python",
   "name": "python",
   "nbconvert_exporter": "python",
   "pygments_lexer": "ipython3",
   "version": "3.10.6"
  },
  "orig_nbformat": 4,
  "vscode": {
   "interpreter": {
    "hash": "63963b3f4c440940f0b94a3100916033a226cb4f45979123153792d60aa56d6a"
   }
  }
 },
 "nbformat": 4,
 "nbformat_minor": 2
}
